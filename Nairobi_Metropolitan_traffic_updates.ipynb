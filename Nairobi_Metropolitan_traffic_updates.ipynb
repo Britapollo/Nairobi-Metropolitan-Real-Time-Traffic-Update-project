{
  "nbformat": 4,
  "nbformat_minor": 0,
  "metadata": {
    "colab": {
      "provenance": [],
      "authorship_tag": "ABX9TyMSZIrL6wqstyAG0Td2RsDW",
      "include_colab_link": true
    },
    "kernelspec": {
      "name": "python3",
      "display_name": "Python 3"
    },
    "language_info": {
      "name": "python"
    }
  },
  "cells": [
    {
      "cell_type": "markdown",
      "metadata": {
        "id": "view-in-github",
        "colab_type": "text"
      },
      "source": [
        "<a href=\"https://colab.research.google.com/github/Britapollo/Nairobi-Metropolitan-Real-Time-Traffic-Update-project/blob/main/Nairobi_Metropolitan_traffic_updates.ipynb\" target=\"_parent\"><img src=\"https://colab.research.google.com/assets/colab-badge.svg\" alt=\"Open In Colab\"/></a>"
      ]
    },
    {
      "cell_type": "code",
      "execution_count": 2,
      "metadata": {
        "colab": {
          "base_uri": "https://localhost:8080/"
        },
        "id": "w8qPLBPAzD88",
        "outputId": "f56cfbec-15fc-47d6-b728-e378b565ddb8"
      },
      "outputs": [
        {
          "output_type": "stream",
          "name": "stdout",
          "text": [
            "Collecting faker\n",
            "  Downloading Faker-23.2.1-py3-none-any.whl (1.7 MB)\n",
            "\u001b[2K     \u001b[90m━━━━━━━━━━━━━━━━━━━━━━━━━━━━━━━━━━━━━━━━\u001b[0m \u001b[32m1.7/1.7 MB\u001b[0m \u001b[31m8.9 MB/s\u001b[0m eta \u001b[36m0:00:00\u001b[0m\n",
            "\u001b[?25hRequirement already satisfied: python-dateutil>=2.4 in /usr/local/lib/python3.10/dist-packages (from faker) (2.8.2)\n",
            "Requirement already satisfied: six>=1.5 in /usr/local/lib/python3.10/dist-packages (from python-dateutil>=2.4->faker) (1.16.0)\n",
            "Installing collected packages: faker\n",
            "Successfully installed faker-23.2.1\n",
            "Collecting confluent_kafka\n",
            "  Downloading confluent_kafka-2.3.0-cp310-cp310-manylinux_2_17_x86_64.manylinux2014_x86_64.whl (4.0 MB)\n",
            "\u001b[2K     \u001b[90m━━━━━━━━━━━━━━━━━━━━━━━━━━━━━━━━━━━━━━━━\u001b[0m \u001b[32m4.0/4.0 MB\u001b[0m \u001b[31m13.4 MB/s\u001b[0m eta \u001b[36m0:00:00\u001b[0m\n",
            "\u001b[?25hInstalling collected packages: confluent_kafka\n",
            "Successfully installed confluent_kafka-2.3.0\n"
          ]
        }
      ],
      "source": [
        "!pip install faker\n",
        "!pip install confluent_kafka"
      ]
    },
    {
      "cell_type": "code",
      "source": [
        "import time\n",
        "from faker import Faker\n",
        "from confluent_kafka import Producer\n",
        "import json\n",
        "\n",
        "fake = Faker()\n",
        "\n",
        "bootstrap_servers = 'pkc-7xoy1.eu-central-1.aws.confluent.cloud:9092'\n",
        "sasl_plain_username = 'K2HEGJITWJCRHQPH'\n",
        "sasl_plain_password = 'gAR4O3lI7zhqhrlaNDpZj3eiDVxBIrRKnZSfbQjO5f/ywo60sYsD+2xWYMog05Fb'\n",
        "topic_name = 'Traffic_Updates'\n",
        "\n",
        "# Create the Kafka producer\n",
        "producer_config = {\n",
        "    'bootstrap.servers': bootstrap_servers,\n",
        "    'security.protocol': 'SASL_SSL',\n",
        "    'sasl.mechanisms': 'PLAIN',\n",
        "    'sasl.username': sasl_plain_username,\n",
        "    'sasl.password': sasl_plain_password,\n",
        "}\n",
        "\n",
        "producer = Producer(producer_config)\n",
        "\n",
        "\n",
        "def delivery_report(err, msg):\n",
        "    if err is not None:\n",
        "        print('Message delivery failed: {}'.format(err))\n",
        "    else:\n",
        "        print('Message delivered to topic {} [partition {}] at offset {}'.format(msg.topic(), msg.partition(), msg.offset()))\n",
        "\n",
        "\n",
        "def get_registered_users():\n",
        "    return {\n",
        "        \"name\": fake.name(),\n",
        "        \"address\": fake.address(),\n",
        "        \"message\": fake.text(),\n",
        "        \"created_on\": fake.year()\n",
        "    }\n",
        "\n",
        "while True:\n",
        "    user = get_registered_users()\n",
        "\n",
        "    # Convert user data to JSON format\n",
        "    user_json = json.dumps(user)\n",
        "\n",
        "    # Produce the message to Kafka\n",
        "    producer.produce(topic_name, user_json, callback=delivery_report)\n",
        "    producer.flush()  # Ensure message is sent\n",
        "\n",
        "    time.sleep(30)"
      ],
      "metadata": {
        "colab": {
          "base_uri": "https://localhost:8080/"
        },
        "id": "WZUb-OyN1pd_",
        "outputId": "4513eaa5-257f-4d0b-ccf5-bbf5f6b0734a"
      },
      "execution_count": null,
      "outputs": [
        {
          "output_type": "stream",
          "name": "stdout",
          "text": [
            "Message delivered to topic Traffic_Updates [partition 1] at offset 0\n",
            "Message delivered to topic Traffic_Updates [partition 4] at offset 0\n",
            "Message delivered to topic Traffic_Updates [partition 5] at offset 0\n",
            "Message delivered to topic Traffic_Updates [partition 0] at offset 0\n"
          ]
        }
      ]
    },
    {
      "cell_type": "code",
      "source": [],
      "metadata": {
        "id": "n8XH_fhy10Ro"
      },
      "execution_count": null,
      "outputs": []
    }
  ]
}